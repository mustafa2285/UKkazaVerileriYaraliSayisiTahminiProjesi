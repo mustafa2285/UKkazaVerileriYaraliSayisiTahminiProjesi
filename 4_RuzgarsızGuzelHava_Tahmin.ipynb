{
 "cells": [
  {
   "cell_type": "markdown",
   "id": "e2d4c5fa",
   "metadata": {},
   "source": [
    "# Rüzgarsız güzel hava koşullarında yaralı sayısı tahmini"
   ]
  },
  {
   "cell_type": "code",
   "execution_count": 1,
   "id": "9146bea2",
   "metadata": {},
   "outputs": [],
   "source": [
    "import numpy as np\n",
    "import pandas as pd\n",
    "import matplotlib.pyplot as plt\n",
    "import seaborn as sns"
   ]
  },
  {
   "cell_type": "code",
   "execution_count": 2,
   "id": "93b1277a",
   "metadata": {},
   "outputs": [],
   "source": [
    "from sklearn.model_selection import train_test_split,GridSearchCV\n",
    "from sklearn.linear_model import LinearRegression\n",
    "from sklearn.neighbors import KNeighborsRegressor\n",
    "from sklearn.naive_bayes import GaussianNB\n",
    "from sklearn.tree import DecisionTreeClassifier\n",
    "from sklearn.svm import SVC"
   ]
  },
  {
   "cell_type": "code",
   "execution_count": 3,
   "id": "bdd1a68a",
   "metadata": {},
   "outputs": [],
   "source": [
    "dfx = pd.read_csv(\"KazaVerileri.csv\")"
   ]
  },
  {
   "cell_type": "code",
   "execution_count": 4,
   "id": "f33eb179",
   "metadata": {},
   "outputs": [
    {
     "name": "stdout",
     "output_type": "stream",
     "text": [
      "<class 'pandas.core.frame.DataFrame'>\n",
      "RangeIndex: 464381 entries, 0 to 464380\n",
      "Data columns (total 22 columns):\n",
      " #   Column                      Non-Null Count   Dtype  \n",
      "---  ------                      --------------   -----  \n",
      " 0   Time                        464381 non-null  int64  \n",
      " 1   Road_Type                   464381 non-null  int64  \n",
      " 2   Light_Conditions            464381 non-null  int64  \n",
      " 3   Carriageway_Hazards         464381 non-null  int64  \n",
      " 4   Location_Easting_OSGR       464381 non-null  int64  \n",
      " 5   Location_Northing_OSGR      464381 non-null  int64  \n",
      " 6   Longitude                   464381 non-null  float64\n",
      " 7   Latitude                    464381 non-null  float64\n",
      " 8   Police_Force                464381 non-null  int64  \n",
      " 9   Accident_Severity           464381 non-null  int64  \n",
      " 10  Number_of_Vehicles          464381 non-null  int64  \n",
      " 11  Number_of_Casualties        464381 non-null  int64  \n",
      " 12  Day_of_Week                 464381 non-null  int64  \n",
      " 13  Local_Authority_(District)  464381 non-null  int64  \n",
      " 14  1st_Road_Class              464381 non-null  int64  \n",
      " 15  1st_Road_Number             464381 non-null  int64  \n",
      " 16  Speed_limit                 464381 non-null  int64  \n",
      " 17  2nd_Road_Class              464381 non-null  int64  \n",
      " 18  2nd_Road_Number             464381 non-null  int64  \n",
      " 19  Weather_Conditions          464381 non-null  object \n",
      " 20  Urban_or_Rural_Area         464381 non-null  int64  \n",
      " 21  Year                        464381 non-null  int64  \n",
      "dtypes: float64(2), int64(19), object(1)\n",
      "memory usage: 77.9+ MB\n"
     ]
    }
   ],
   "source": [
    "dfx.info()"
   ]
  },
  {
   "cell_type": "code",
   "execution_count": 5,
   "id": "09d57dd1",
   "metadata": {},
   "outputs": [
    {
     "data": {
      "text/plain": [
       "Fine without high winds       372902\n",
       "Raining without high winds     57034\n",
       "Unknown                        16476\n",
       "Raining with high winds         7116\n",
       "Fine with high winds            5006\n",
       "Snowing without high winds      2708\n",
       "Fog or mist                     2406\n",
       "Snowing with high winds          733\n",
       "Name: Weather_Conditions, dtype: int64"
      ]
     },
     "execution_count": 5,
     "metadata": {},
     "output_type": "execute_result"
    }
   ],
   "source": [
    "dfx.Weather_Conditions.value_counts()"
   ]
  },
  {
   "cell_type": "code",
   "execution_count": 6,
   "id": "d32567e7",
   "metadata": {},
   "outputs": [],
   "source": [
    "df = dfx.loc[dfx.Weather_Conditions==\"Fine without high winds\"]"
   ]
  },
  {
   "cell_type": "code",
   "execution_count": 7,
   "id": "552ee701",
   "metadata": {},
   "outputs": [
    {
     "name": "stdout",
     "output_type": "stream",
     "text": [
      "<class 'pandas.core.frame.DataFrame'>\n",
      "Int64Index: 372902 entries, 0 to 464380\n",
      "Data columns (total 22 columns):\n",
      " #   Column                      Non-Null Count   Dtype  \n",
      "---  ------                      --------------   -----  \n",
      " 0   Time                        372902 non-null  int64  \n",
      " 1   Road_Type                   372902 non-null  int64  \n",
      " 2   Light_Conditions            372902 non-null  int64  \n",
      " 3   Carriageway_Hazards         372902 non-null  int64  \n",
      " 4   Location_Easting_OSGR       372902 non-null  int64  \n",
      " 5   Location_Northing_OSGR      372902 non-null  int64  \n",
      " 6   Longitude                   372902 non-null  float64\n",
      " 7   Latitude                    372902 non-null  float64\n",
      " 8   Police_Force                372902 non-null  int64  \n",
      " 9   Accident_Severity           372902 non-null  int64  \n",
      " 10  Number_of_Vehicles          372902 non-null  int64  \n",
      " 11  Number_of_Casualties        372902 non-null  int64  \n",
      " 12  Day_of_Week                 372902 non-null  int64  \n",
      " 13  Local_Authority_(District)  372902 non-null  int64  \n",
      " 14  1st_Road_Class              372902 non-null  int64  \n",
      " 15  1st_Road_Number             372902 non-null  int64  \n",
      " 16  Speed_limit                 372902 non-null  int64  \n",
      " 17  2nd_Road_Class              372902 non-null  int64  \n",
      " 18  2nd_Road_Number             372902 non-null  int64  \n",
      " 19  Weather_Conditions          372902 non-null  object \n",
      " 20  Urban_or_Rural_Area         372902 non-null  int64  \n",
      " 21  Year                        372902 non-null  int64  \n",
      "dtypes: float64(2), int64(19), object(1)\n",
      "memory usage: 65.4+ MB\n"
     ]
    }
   ],
   "source": [
    "df.info()"
   ]
  },
  {
   "cell_type": "code",
   "execution_count": 8,
   "id": "273f0d16",
   "metadata": {},
   "outputs": [
    {
     "data": {
      "text/plain": [
       "1st_Road_Class               -0.091847\n",
       "Road_Type                    -0.061545\n",
       "Accident_Severity            -0.055094\n",
       "Location_Easting_OSGR        -0.045926\n",
       "Longitude                    -0.044501\n",
       "Light_Conditions             -0.038029\n",
       "2nd_Road_Class               -0.030200\n",
       "Year                         -0.009422\n",
       "Carriageway_Hazards          -0.007061\n",
       "Day_of_Week                   0.001093\n",
       "2nd_Road_Number               0.004324\n",
       "1st_Road_Number               0.008175\n",
       "Police_Force                  0.016192\n",
       "Local_Authority_(District)    0.024563\n",
       "Time                          0.031107\n",
       "Location_Northing_OSGR        0.038661\n",
       "Latitude                      0.038816\n",
       "Urban_or_Rural_Area           0.125897\n",
       "Speed_limit                   0.155241\n",
       "Number_of_Vehicles            0.254465\n",
       "Number_of_Casualties          1.000000\n",
       "Name: Number_of_Casualties, dtype: float64"
      ]
     },
     "execution_count": 8,
     "metadata": {},
     "output_type": "execute_result"
    }
   ],
   "source": [
    "df.corr()[\"Number_of_Casualties\"].sort_values()"
   ]
  },
  {
   "cell_type": "code",
   "execution_count": 9,
   "id": "6a179190",
   "metadata": {},
   "outputs": [],
   "source": [
    "y = df[\"Number_of_Casualties\"].values\n",
    "x = df.drop([\"Number_of_Casualties\",\"Weather_Conditions\"],axis = 1).values"
   ]
  },
  {
   "cell_type": "markdown",
   "id": "1cc60198",
   "metadata": {},
   "source": [
    "# Liner"
   ]
  },
  {
   "cell_type": "code",
   "execution_count": 10,
   "id": "ce1b423f",
   "metadata": {},
   "outputs": [],
   "source": [
    "X_train,X_test,y_train,y_test = train_test_split(x,y, test_size=0.20,random_state=42)"
   ]
  },
  {
   "cell_type": "code",
   "execution_count": 11,
   "id": "74d236e8",
   "metadata": {},
   "outputs": [
    {
     "data": {
      "text/plain": [
       "LinearRegression()"
      ]
     },
     "execution_count": 11,
     "metadata": {},
     "output_type": "execute_result"
    }
   ],
   "source": [
    "reg = LinearRegression()\n",
    "reg.fit(X_train,y_train)"
   ]
  },
  {
   "cell_type": "code",
   "execution_count": 12,
   "id": "85a3ac9e",
   "metadata": {},
   "outputs": [
    {
     "data": {
      "text/plain": [
       "0.09297713213123504"
      ]
     },
     "execution_count": 12,
     "metadata": {},
     "output_type": "execute_result"
    }
   ],
   "source": [
    "reg.score(X_test,y_test)"
   ]
  },
  {
   "cell_type": "markdown",
   "id": "54aa4951",
   "metadata": {},
   "source": [
    "# GaussianNB"
   ]
  },
  {
   "cell_type": "code",
   "execution_count": 13,
   "id": "8b26f154",
   "metadata": {},
   "outputs": [],
   "source": [
    "X_train,X_test,y_train,y_test = train_test_split(x,y, test_size=0.2,random_state=42)"
   ]
  },
  {
   "cell_type": "code",
   "execution_count": 14,
   "id": "01f2e935",
   "metadata": {},
   "outputs": [
    {
     "data": {
      "text/plain": [
       "GaussianNB()"
      ]
     },
     "execution_count": 14,
     "metadata": {},
     "output_type": "execute_result"
    }
   ],
   "source": [
    "model =GaussianNB()\n",
    "model.fit(X_train,y_train)"
   ]
  },
  {
   "cell_type": "code",
   "execution_count": 15,
   "id": "410e9792",
   "metadata": {},
   "outputs": [
    {
     "data": {
      "text/plain": [
       "0.7768868746731742"
      ]
     },
     "execution_count": 15,
     "metadata": {},
     "output_type": "execute_result"
    }
   ],
   "source": [
    "model.score(X_test,y_test)"
   ]
  },
  {
   "cell_type": "markdown",
   "id": "103c219c",
   "metadata": {},
   "source": [
    "# DecisionTree"
   ]
  },
  {
   "cell_type": "code",
   "execution_count": 16,
   "id": "1252fd8a",
   "metadata": {},
   "outputs": [],
   "source": [
    "X_train,X_test,y_train,y_test = train_test_split(x,y, test_size=0.2,random_state=42)"
   ]
  },
  {
   "cell_type": "code",
   "execution_count": 17,
   "id": "331b2156",
   "metadata": {},
   "outputs": [
    {
     "data": {
      "text/plain": [
       "DecisionTreeClassifier(criterion='entropy')"
      ]
     },
     "execution_count": 17,
     "metadata": {},
     "output_type": "execute_result"
    }
   ],
   "source": [
    "dtc = DecisionTreeClassifier(criterion = \"entropy\")\n",
    "dtc.fit(X_train,y_train)"
   ]
  },
  {
   "cell_type": "code",
   "execution_count": 18,
   "id": "c8dfc180",
   "metadata": {},
   "outputs": [
    {
     "data": {
      "text/plain": [
       "0.694774808597364"
      ]
     },
     "execution_count": 18,
     "metadata": {},
     "output_type": "execute_result"
    }
   ],
   "source": [
    "dtc.score(X_test,y_test)"
   ]
  },
  {
   "cell_type": "markdown",
   "id": "d7c04e31",
   "metadata": {},
   "source": [
    "### Sadece pozitif etki eden kolonları alma"
   ]
  },
  {
   "cell_type": "code",
   "execution_count": 19,
   "id": "73113e67",
   "metadata": {},
   "outputs": [
    {
     "data": {
      "text/plain": [
       "1st_Road_Class               -0.091847\n",
       "Road_Type                    -0.061545\n",
       "Accident_Severity            -0.055094\n",
       "Location_Easting_OSGR        -0.045926\n",
       "Longitude                    -0.044501\n",
       "Light_Conditions             -0.038029\n",
       "2nd_Road_Class               -0.030200\n",
       "Year                         -0.009422\n",
       "Carriageway_Hazards          -0.007061\n",
       "Day_of_Week                   0.001093\n",
       "2nd_Road_Number               0.004324\n",
       "1st_Road_Number               0.008175\n",
       "Police_Force                  0.016192\n",
       "Local_Authority_(District)    0.024563\n",
       "Time                          0.031107\n",
       "Location_Northing_OSGR        0.038661\n",
       "Latitude                      0.038816\n",
       "Urban_or_Rural_Area           0.125897\n",
       "Speed_limit                   0.155241\n",
       "Number_of_Vehicles            0.254465\n",
       "Number_of_Casualties          1.000000\n",
       "Name: Number_of_Casualties, dtype: float64"
      ]
     },
     "execution_count": 19,
     "metadata": {},
     "output_type": "execute_result"
    }
   ],
   "source": [
    "df.corr()[\"Number_of_Casualties\"].sort_values()"
   ]
  },
  {
   "cell_type": "code",
   "execution_count": 20,
   "id": "e270db7b",
   "metadata": {},
   "outputs": [],
   "source": [
    "y = df[\"Number_of_Casualties\"].values\n",
    "x = df.loc[:,[\"Number_of_Vehicles\",\"Speed_limit\",\"Urban_or_Rural_Area\",\"Location_Northing_OSGR\",\"Latitude\"\n",
    "              ,\"Time\",\"1st_Road_Number\",\"2nd_Road_Number\",\"Day_of_Week\",\"Local_Authority_(District)\",\"Police_Force\",]].values"
   ]
  },
  {
   "cell_type": "markdown",
   "id": "23b7427f",
   "metadata": {},
   "source": [
    "# Liner"
   ]
  },
  {
   "cell_type": "code",
   "execution_count": 21,
   "id": "c4ea6f61",
   "metadata": {},
   "outputs": [],
   "source": [
    "X_train,X_test,y_train,y_test = train_test_split(x,y, test_size=0.20,random_state=42)"
   ]
  },
  {
   "cell_type": "code",
   "execution_count": 22,
   "id": "034929b2",
   "metadata": {},
   "outputs": [
    {
     "data": {
      "text/plain": [
       "LinearRegression()"
      ]
     },
     "execution_count": 22,
     "metadata": {},
     "output_type": "execute_result"
    }
   ],
   "source": [
    "reg = LinearRegression()\n",
    "reg.fit(X_train,y_train)"
   ]
  },
  {
   "cell_type": "code",
   "execution_count": 23,
   "id": "62a520b0",
   "metadata": {},
   "outputs": [
    {
     "data": {
      "text/plain": [
       "0.0878013620889414"
      ]
     },
     "execution_count": 23,
     "metadata": {},
     "output_type": "execute_result"
    }
   ],
   "source": [
    "reg.score(X_test,y_test)"
   ]
  },
  {
   "cell_type": "markdown",
   "id": "ec0b1daf",
   "metadata": {},
   "source": [
    "# GaussianNB"
   ]
  },
  {
   "cell_type": "code",
   "execution_count": 24,
   "id": "21d76069",
   "metadata": {},
   "outputs": [],
   "source": [
    "X_train,X_test,y_train,y_test = train_test_split(x,y, test_size=0.2,random_state=42)"
   ]
  },
  {
   "cell_type": "code",
   "execution_count": 25,
   "id": "b18eb492",
   "metadata": {},
   "outputs": [
    {
     "data": {
      "text/plain": [
       "GaussianNB()"
      ]
     },
     "execution_count": 25,
     "metadata": {},
     "output_type": "execute_result"
    }
   ],
   "source": [
    "model =GaussianNB()\n",
    "model.fit(X_train,y_train)"
   ]
  },
  {
   "cell_type": "code",
   "execution_count": 26,
   "id": "32885179",
   "metadata": {},
   "outputs": [
    {
     "data": {
      "text/plain": [
       "0.7764041780078036"
      ]
     },
     "execution_count": 26,
     "metadata": {},
     "output_type": "execute_result"
    }
   ],
   "source": [
    "model.score(X_test,y_test)"
   ]
  },
  {
   "cell_type": "code",
   "execution_count": 27,
   "id": "e11dc463",
   "metadata": {},
   "outputs": [
    {
     "data": {
      "text/plain": [
       "array([[1.0000000e+00, 3.0000000e+01, 2.0000000e+00, 5.6198900e+05,\n",
       "        5.4951281e+01, 1.0000000e+00, 1.2980000e+03, 3.0190000e+03,\n",
       "        4.0000000e+00, 1.4900000e+02, 1.0000000e+01]])"
      ]
     },
     "execution_count": 27,
     "metadata": {},
     "output_type": "execute_result"
    }
   ],
   "source": [
    "k = x[300126].reshape(1,-1)\n",
    "k"
   ]
  },
  {
   "cell_type": "code",
   "execution_count": 28,
   "id": "77f45933",
   "metadata": {},
   "outputs": [
    {
     "data": {
      "text/plain": [
       "array([1], dtype=int64)"
      ]
     },
     "execution_count": 28,
     "metadata": {},
     "output_type": "execute_result"
    }
   ],
   "source": [
    "model.predict(k) # Tahmin"
   ]
  },
  {
   "cell_type": "code",
   "execution_count": 29,
   "id": "684cefed",
   "metadata": {},
   "outputs": [
    {
     "data": {
      "text/plain": [
       "1"
      ]
     },
     "execution_count": 29,
     "metadata": {},
     "output_type": "execute_result"
    }
   ],
   "source": [
    "y[300126] # Gerçekdeğer"
   ]
  },
  {
   "cell_type": "markdown",
   "id": "5e037b69",
   "metadata": {},
   "source": [
    "# DecisionTree"
   ]
  },
  {
   "cell_type": "code",
   "execution_count": 30,
   "id": "1f78bbd3",
   "metadata": {},
   "outputs": [],
   "source": [
    "X_train,X_test,y_train,y_test = train_test_split(x,y, test_size=0.2,random_state=42)"
   ]
  },
  {
   "cell_type": "code",
   "execution_count": 31,
   "id": "210e9876",
   "metadata": {},
   "outputs": [
    {
     "data": {
      "text/plain": [
       "DecisionTreeClassifier(criterion='entropy')"
      ]
     },
     "execution_count": 31,
     "metadata": {},
     "output_type": "execute_result"
    }
   ],
   "source": [
    "dtc = DecisionTreeClassifier(criterion = \"entropy\")\n",
    "dtc.fit(X_train,y_train)"
   ]
  },
  {
   "cell_type": "code",
   "execution_count": 32,
   "id": "95408f9e",
   "metadata": {},
   "outputs": [
    {
     "data": {
      "text/plain": [
       "0.6936216998967566"
      ]
     },
     "execution_count": 32,
     "metadata": {},
     "output_type": "execute_result"
    }
   ],
   "source": [
    "dtc.score(X_test,y_test)"
   ]
  },
  {
   "cell_type": "code",
   "execution_count": null,
   "id": "a34c1b78",
   "metadata": {},
   "outputs": [],
   "source": []
  }
 ],
 "metadata": {
  "kernelspec": {
   "display_name": "Python 3",
   "language": "python",
   "name": "python3"
  },
  "language_info": {
   "codemirror_mode": {
    "name": "ipython",
    "version": 3
   },
   "file_extension": ".py",
   "mimetype": "text/x-python",
   "name": "python",
   "nbconvert_exporter": "python",
   "pygments_lexer": "ipython3",
   "version": "3.8.8"
  }
 },
 "nbformat": 4,
 "nbformat_minor": 5
}
