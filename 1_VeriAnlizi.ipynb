{
 "cells": [
  {
   "cell_type": "code",
   "execution_count": 1,
   "id": "7e5b65ab",
   "metadata": {},
   "outputs": [],
   "source": [
    "import numpy as np\n",
    "import pandas as pd\n",
    "import matplotlib.pyplot as plt\n",
    "import seaborn as sns"
   ]
  },
  {
   "cell_type": "code",
   "execution_count": null,
   "id": "4d8a311a",
   "metadata": {},
   "outputs": [],
   "source": [
    "df = pd.read_csv(\"accidents_2012_to_2014.csv\")"
   ]
  },
  {
   "cell_type": "code",
   "execution_count": 3,
   "id": "d83fcf97",
   "metadata": {},
   "outputs": [
    {
     "name": "stdout",
     "output_type": "stream",
     "text": [
      "<class 'pandas.core.frame.DataFrame'>\n",
      "RangeIndex: 464697 entries, 0 to 464696\n",
      "Data columns (total 33 columns):\n",
      " #   Column                                       Non-Null Count   Dtype  \n",
      "---  ------                                       --------------   -----  \n",
      " 0   Accident_Index                               464697 non-null  object \n",
      " 1   Location_Easting_OSGR                        464697 non-null  int64  \n",
      " 2   Location_Northing_OSGR                       464697 non-null  int64  \n",
      " 3   Longitude                                    464697 non-null  float64\n",
      " 4   Latitude                                     464697 non-null  float64\n",
      " 5   Police_Force                                 464697 non-null  int64  \n",
      " 6   Accident_Severity                            464697 non-null  int64  \n",
      " 7   Number_of_Vehicles                           464697 non-null  int64  \n",
      " 8   Number_of_Casualties                         464697 non-null  int64  \n",
      " 9   Date                                         464697 non-null  object \n",
      " 10  Day_of_Week                                  464697 non-null  int64  \n",
      " 11  Time                                         464684 non-null  object \n",
      " 12  Local_Authority_(District)                   464697 non-null  int64  \n",
      " 13  Local_Authority_(Highway)                    464697 non-null  object \n",
      " 14  1st_Road_Class                               464697 non-null  int64  \n",
      " 15  1st_Road_Number                              464697 non-null  int64  \n",
      " 16  Road_Type                                    464697 non-null  object \n",
      " 17  Speed_limit                                  464697 non-null  int64  \n",
      " 18  Junction_Detail                              0 non-null       float64\n",
      " 19  Junction_Control                             286087 non-null  object \n",
      " 20  2nd_Road_Class                               464697 non-null  int64  \n",
      " 21  2nd_Road_Number                              464697 non-null  int64  \n",
      " 22  Pedestrian_Crossing-Human_Control            464697 non-null  object \n",
      " 23  Pedestrian_Crossing-Physical_Facilities      464697 non-null  object \n",
      " 24  Light_Conditions                             464697 non-null  object \n",
      " 25  Weather_Conditions                           464697 non-null  object \n",
      " 26  Road_Surface_Conditions                      463942 non-null  object \n",
      " 27  Special_Conditions_at_Site                   464695 non-null  object \n",
      " 28  Carriageway_Hazards                          464694 non-null  object \n",
      " 29  Urban_or_Rural_Area                          464697 non-null  int64  \n",
      " 30  Did_Police_Officer_Attend_Scene_of_Accident  464695 non-null  object \n",
      " 31  LSOA_of_Accident_Location                    435979 non-null  object \n",
      " 32  Year                                         464697 non-null  int64  \n",
      "dtypes: float64(3), int64(15), object(15)\n",
      "memory usage: 117.0+ MB\n"
     ]
    }
   ],
   "source": [
    "df.info()"
   ]
  },
  {
   "cell_type": "code",
   "execution_count": 4,
   "id": "d5243f1d",
   "metadata": {},
   "outputs": [
    {
     "name": "stderr",
     "output_type": "stream",
     "text": [
      "C:\\ProgramData\\Anaconda3\\lib\\site-packages\\seaborn\\_decorators.py:36: FutureWarning: Pass the following variable as a keyword arg: x. From version 0.12, the only valid positional argument will be `data`, and passing other arguments without an explicit keyword will result in an error or misinterpretation.\n",
      "  warnings.warn(\n"
     ]
    },
    {
     "data": {
      "text/plain": [
       "<AxesSubplot:xlabel='Number_of_Casualties'>"
      ]
     },
     "execution_count": 4,
     "metadata": {},
     "output_type": "execute_result"
    },
    {
     "data": {
      "image/png": "[encoded data removed]",
      "text/plain": [
       "<Figure size 432x288 with 1 Axes>"
      ]
     },
     "metadata": {
      "needs_background": "light"
     },
     "output_type": "display_data"
    }
   ],
   "source": [
    "sns.boxplot(df[\"Number_of_Casualties\"])"
   ]
  },
  {
   "cell_type": "code",
   "execution_count": 5,
   "id": "7cc54816",
   "metadata": {},
   "outputs": [
    {
     "data": {
      "text/plain": [
       "<AxesSubplot:xlabel='Number_of_Casualties', ylabel='Count'>"
      ]
     },
     "execution_count": 5,
     "metadata": {},
     "output_type": "execute_result"
    },
    {
     "data": {
      "image/png": "[encoded data removed]",
      "text/plain": [
       "<Figure size 432x288 with 1 Axes>"
      ]
     },
     "metadata": {
      "needs_background": "light"
     },
     "output_type": "display_data"
    }
   ],
   "source": [
    "sns.histplot(df[\"Number_of_Casualties\"])"
   ]
  },
  {
   "cell_type": "markdown",
   "id": "5c35a5b6",
   "metadata": {},
   "source": [
    "### Aykırı verileri eleme\n",
    "300 tane aykırı veriyi çıkarttım"
   ]
  },
  {
   "cell_type": "code",
   "execution_count": 6,
   "id": "2bdc8be5",
   "metadata": {},
   "outputs": [],
   "source": [
    "df =df.sort_values(\"Number_of_Casualties\",ascending = False).iloc[300:]"
   ]
  },
  {
   "cell_type": "code",
   "execution_count": 7,
   "id": "3d2fa1fa",
   "metadata": {},
   "outputs": [
    {
     "data": {
      "text/plain": [
       "<AxesSubplot:xlabel='Number_of_Casualties', ylabel='Count'>"
      ]
     },
     "execution_count": 7,
     "metadata": {},
     "output_type": "execute_result"
    },
    {
     "data": {
      "image/png": "[encoded data removed]",
      "text/plain": [
       "<Figure size 432x288 with 1 Axes>"
      ]
     },
     "metadata": {
      "needs_background": "light"
     },
     "output_type": "display_data"
    }
   ],
   "source": [
    "sns.histplot(df[\"Number_of_Casualties\"])"
   ]
  },
  {
   "cell_type": "code",
   "execution_count": 8,
   "id": "f53f9b2a",
   "metadata": {},
   "outputs": [
    {
     "data": {
      "text/plain": [
       "Fine without high winds       372915\n",
       "Raining without high winds     57034\n",
       "Unknown                        16478\n",
       "Raining with high winds         7116\n",
       "Fine with high winds            5007\n",
       "Snowing without high winds      2708\n",
       "Fog or mist                     2406\n",
       "Snowing with high winds          733\n",
       "Name: Weather_Conditions, dtype: int64"
      ]
     },
     "execution_count": 8,
     "metadata": {},
     "output_type": "execute_result"
    }
   ],
   "source": [
    "df.loc[df.Weather_Conditions == \"Other\", \"Weather_Conditions\"] = \"Unknown\"\n",
    "df.Weather_Conditions.value_counts()"
   ]
  },
  {
   "cell_type": "code",
   "execution_count": 9,
   "id": "14794afd",
   "metadata": {},
   "outputs": [
    {
     "data": {
      "text/plain": [
       "<Figure size 1800x1440 with 0 Axes>"
      ]
     },
     "metadata": {},
     "output_type": "display_data"
    },
    {
     "data": {
      "image/png": "[encoded data removed]",
      "text/plain": [
       "<Figure size 360x360 with 1 Axes>"
      ]
     },
     "metadata": {
      "needs_background": "light"
     },
     "output_type": "display_data"
    }
   ],
   "source": [
    "plt.figure(figsize = (25,20))\n",
    "sns.catplot(x =  \"Number_of_Casualties\" ,y =\"Weather_Conditions\" , data=df)\n",
    "\n",
    "plt.title(\"Hava durumuna göre Yaralı sayısı\")\n",
    "plt.show()"
   ]
  },
  {
   "cell_type": "code",
   "execution_count": 10,
   "id": "20f93792",
   "metadata": {},
   "outputs": [
    {
     "data": {
      "image/png": "[encoded data removed]",
      "text/plain": [
       "<Figure size 1800x1440 with 1 Axes>"
      ]
     },
     "metadata": {
      "needs_background": "light"
     },
     "output_type": "display_data"
    }
   ],
   "source": [
    "plt.figure(figsize = (25,20))\n",
    "sns.boxplot(x =  \"Number_of_Casualties\" ,y =\"Weather_Conditions\" , data=df)\n",
    "\n",
    "plt.title(\"Hava durumuna göre Yaralı sayısı\")\n",
    "plt.show()"
   ]
  },
  {
   "cell_type": "code",
   "execution_count": 11,
   "id": "a2652bc3",
   "metadata": {},
   "outputs": [],
   "source": [
    "df[\"Time\"] = df.Time.str[:-3]"
   ]
  },
  {
   "cell_type": "code",
   "execution_count": 12,
   "id": "ab102a28",
   "metadata": {},
   "outputs": [],
   "source": [
    "for i in range(0,7):\n",
    "    df.loc[df.Time ==\"0\"+str(i) ,\"Time\"] = 3\n",
    "for i in range(7,10):\n",
    "    df.loc[df.Time ==\"0\"+str(i) ,\"Time\"] = 1\n",
    "df.loc[df.Time ==\"10\" ,\"Time\"] = 1\n",
    "df.loc[df.Time ==\"11\" ,\"Time\"] = 1\n",
    "for i in range(12,17):\n",
    "    df.loc[df.Time ==str(i) ,\"Time\"] = 2\n",
    "for i in range(17,21):\n",
    "    df.loc[df.Time ==str(i) ,\"Time\"] = 1\n",
    "for i in range(21,25):\n",
    "    df.loc[df.Time ==str(i) ,\"Time\"] = 3"
   ]
  },
  {
   "cell_type": "markdown",
   "id": "87c411ad",
   "metadata": {},
   "source": [
    "### 1 = Trafiğin en yoğun olduğu saatler(07:00-11:00/17:00-21:00)\n",
    "### 2 = Gün içi\n",
    "### 3 = Gece"
   ]
  },
  {
   "cell_type": "code",
   "execution_count": 13,
   "id": "fa31497f",
   "metadata": {},
   "outputs": [
    {
     "name": "stdout",
     "output_type": "stream",
     "text": [
      "<class 'pandas.core.frame.DataFrame'>\n",
      "Int64Index: 464397 entries, 424035 to 232348\n",
      "Data columns (total 33 columns):\n",
      " #   Column                                       Non-Null Count   Dtype  \n",
      "---  ------                                       --------------   -----  \n",
      " 0   Accident_Index                               464397 non-null  object \n",
      " 1   Location_Easting_OSGR                        464397 non-null  int64  \n",
      " 2   Location_Northing_OSGR                       464397 non-null  int64  \n",
      " 3   Longitude                                    464397 non-null  float64\n",
      " 4   Latitude                                     464397 non-null  float64\n",
      " 5   Police_Force                                 464397 non-null  int64  \n",
      " 6   Accident_Severity                            464397 non-null  int64  \n",
      " 7   Number_of_Vehicles                           464397 non-null  int64  \n",
      " 8   Number_of_Casualties                         464397 non-null  int64  \n",
      " 9   Date                                         464397 non-null  object \n",
      " 10  Day_of_Week                                  464397 non-null  int64  \n",
      " 11  Time                                         464384 non-null  object \n",
      " 12  Local_Authority_(District)                   464397 non-null  int64  \n",
      " 13  Local_Authority_(Highway)                    464397 non-null  object \n",
      " 14  1st_Road_Class                               464397 non-null  int64  \n",
      " 15  1st_Road_Number                              464397 non-null  int64  \n",
      " 16  Road_Type                                    464397 non-null  object \n",
      " 17  Speed_limit                                  464397 non-null  int64  \n",
      " 18  Junction_Detail                              0 non-null       float64\n",
      " 19  Junction_Control                             285925 non-null  object \n",
      " 20  2nd_Road_Class                               464397 non-null  int64  \n",
      " 21  2nd_Road_Number                              464397 non-null  int64  \n",
      " 22  Pedestrian_Crossing-Human_Control            464397 non-null  object \n",
      " 23  Pedestrian_Crossing-Physical_Facilities      464397 non-null  object \n",
      " 24  Light_Conditions                             464397 non-null  object \n",
      " 25  Weather_Conditions                           464397 non-null  object \n",
      " 26  Road_Surface_Conditions                      463642 non-null  object \n",
      " 27  Special_Conditions_at_Site                   464395 non-null  object \n",
      " 28  Carriageway_Hazards                          464394 non-null  object \n",
      " 29  Urban_or_Rural_Area                          464397 non-null  int64  \n",
      " 30  Did_Police_Officer_Attend_Scene_of_Accident  464395 non-null  object \n",
      " 31  LSOA_of_Accident_Location                    435698 non-null  object \n",
      " 32  Year                                         464397 non-null  int64  \n",
      "dtypes: float64(3), int64(15), object(15)\n",
      "memory usage: 136.6+ MB\n"
     ]
    }
   ],
   "source": [
    "df.info()"
   ]
  },
  {
   "cell_type": "code",
   "execution_count": 14,
   "id": "255607d5",
   "metadata": {},
   "outputs": [],
   "source": [
    "filitre =['Time','Road_Type','Light_Conditions','Carriageway_Hazards','Location_Easting_OSGR','Location_Northing_OSGR',\n",
    "       'Longitude','Latitude','Police_Force', 'Accident_Severity',\n",
    "       'Number_of_Vehicles', 'Number_of_Casualties','Day_of_Week','Local_Authority_(District)','1st_Road_Class',\n",
    "       '1st_Road_Number', 'Speed_limit','2nd_Road_Class',\n",
    "       '2nd_Road_Number',\n",
    "       'Weather_Conditions',\n",
    "       'Urban_or_Rural_Area', 'Year']\n",
    "\n",
    "df2 = df.reindex(columns=filitre)"
   ]
  },
  {
   "cell_type": "code",
   "execution_count": 15,
   "id": "5ad8f608",
   "metadata": {
    "scrolled": true
   },
   "outputs": [],
   "source": [
    "df2 = df2.dropna()"
   ]
  },
  {
   "cell_type": "code",
   "execution_count": 16,
   "id": "8aea3b7d",
   "metadata": {},
   "outputs": [
    {
     "data": {
      "text/plain": [
       "Time                          0\n",
       "Road_Type                     0\n",
       "Light_Conditions              0\n",
       "Carriageway_Hazards           0\n",
       "Location_Easting_OSGR         0\n",
       "Location_Northing_OSGR        0\n",
       "Longitude                     0\n",
       "Latitude                      0\n",
       "Police_Force                  0\n",
       "Accident_Severity             0\n",
       "Number_of_Vehicles            0\n",
       "Number_of_Casualties          0\n",
       "Day_of_Week                   0\n",
       "Local_Authority_(District)    0\n",
       "1st_Road_Class                0\n",
       "1st_Road_Number               0\n",
       "Speed_limit                   0\n",
       "2nd_Road_Class                0\n",
       "2nd_Road_Number               0\n",
       "Weather_Conditions            0\n",
       "Urban_or_Rural_Area           0\n",
       "Year                          0\n",
       "dtype: int64"
      ]
     },
     "execution_count": 16,
     "metadata": {},
     "output_type": "execute_result"
    }
   ],
   "source": [
    "df2.isnull().sum()"
   ]
  },
  {
   "cell_type": "code",
   "execution_count": 17,
   "id": "e4a55c66",
   "metadata": {},
   "outputs": [
    {
     "name": "stdout",
     "output_type": "stream",
     "text": [
      "<class 'pandas.core.frame.DataFrame'>\n",
      "Int64Index: 464381 entries, 424035 to 232348\n",
      "Data columns (total 22 columns):\n",
      " #   Column                      Non-Null Count   Dtype  \n",
      "---  ------                      --------------   -----  \n",
      " 0   Time                        464381 non-null  object \n",
      " 1   Road_Type                   464381 non-null  object \n",
      " 2   Light_Conditions            464381 non-null  object \n",
      " 3   Carriageway_Hazards         464381 non-null  object \n",
      " 4   Location_Easting_OSGR       464381 non-null  int64  \n",
      " 5   Location_Northing_OSGR      464381 non-null  int64  \n",
      " 6   Longitude                   464381 non-null  float64\n",
      " 7   Latitude                    464381 non-null  float64\n",
      " 8   Police_Force                464381 non-null  int64  \n",
      " 9   Accident_Severity           464381 non-null  int64  \n",
      " 10  Number_of_Vehicles          464381 non-null  int64  \n",
      " 11  Number_of_Casualties        464381 non-null  int64  \n",
      " 12  Day_of_Week                 464381 non-null  int64  \n",
      " 13  Local_Authority_(District)  464381 non-null  int64  \n",
      " 14  1st_Road_Class              464381 non-null  int64  \n",
      " 15  1st_Road_Number             464381 non-null  int64  \n",
      " 16  Speed_limit                 464381 non-null  int64  \n",
      " 17  2nd_Road_Class              464381 non-null  int64  \n",
      " 18  2nd_Road_Number             464381 non-null  int64  \n",
      " 19  Weather_Conditions          464381 non-null  object \n",
      " 20  Urban_or_Rural_Area         464381 non-null  int64  \n",
      " 21  Year                        464381 non-null  int64  \n",
      "dtypes: float64(2), int64(15), object(5)\n",
      "memory usage: 81.5+ MB\n"
     ]
    }
   ],
   "source": [
    "df2.info()"
   ]
  },
  {
   "cell_type": "code",
   "execution_count": 18,
   "id": "bc5c7e8f",
   "metadata": {
    "scrolled": true
   },
   "outputs": [],
   "source": [
    "df2['Time'] =df2['Time'].astype('int')"
   ]
  },
  {
   "cell_type": "code",
   "execution_count": 19,
   "id": "1bca35a2",
   "metadata": {},
   "outputs": [],
   "source": [
    "from sklearn import preprocessing\n",
    "le = preprocessing.LabelEncoder()"
   ]
  },
  {
   "cell_type": "code",
   "execution_count": 20,
   "id": "7ce90346",
   "metadata": {},
   "outputs": [],
   "source": [
    "df2[\"Road_Type\"]= le.fit_transform(df2[\"Road_Type\"])\n",
    "df2[\"Light_Conditions\"]= le.fit_transform(df2[\"Light_Conditions\"])\n",
    "df2[\"Carriageway_Hazards\"]= le.fit_transform(df2[\"Carriageway_Hazards\"])"
   ]
  },
  {
   "cell_type": "code",
   "execution_count": 21,
   "id": "8c807b0d",
   "metadata": {},
   "outputs": [
    {
     "name": "stdout",
     "output_type": "stream",
     "text": [
      "<class 'pandas.core.frame.DataFrame'>\n",
      "Int64Index: 464381 entries, 424035 to 232348\n",
      "Data columns (total 22 columns):\n",
      " #   Column                      Non-Null Count   Dtype  \n",
      "---  ------                      --------------   -----  \n",
      " 0   Time                        464381 non-null  int32  \n",
      " 1   Road_Type                   464381 non-null  int32  \n",
      " 2   Light_Conditions            464381 non-null  int32  \n",
      " 3   Carriageway_Hazards         464381 non-null  int32  \n",
      " 4   Location_Easting_OSGR       464381 non-null  int64  \n",
      " 5   Location_Northing_OSGR      464381 non-null  int64  \n",
      " 6   Longitude                   464381 non-null  float64\n",
      " 7   Latitude                    464381 non-null  float64\n",
      " 8   Police_Force                464381 non-null  int64  \n",
      " 9   Accident_Severity           464381 non-null  int64  \n",
      " 10  Number_of_Vehicles          464381 non-null  int64  \n",
      " 11  Number_of_Casualties        464381 non-null  int64  \n",
      " 12  Day_of_Week                 464381 non-null  int64  \n",
      " 13  Local_Authority_(District)  464381 non-null  int64  \n",
      " 14  1st_Road_Class              464381 non-null  int64  \n",
      " 15  1st_Road_Number             464381 non-null  int64  \n",
      " 16  Speed_limit                 464381 non-null  int64  \n",
      " 17  2nd_Road_Class              464381 non-null  int64  \n",
      " 18  2nd_Road_Number             464381 non-null  int64  \n",
      " 19  Weather_Conditions          464381 non-null  object \n",
      " 20  Urban_or_Rural_Area         464381 non-null  int64  \n",
      " 21  Year                        464381 non-null  int64  \n",
      "dtypes: float64(2), int32(4), int64(15), object(1)\n",
      "memory usage: 74.4+ MB\n"
     ]
    }
   ],
   "source": [
    "df2.info()"
   ]
  },
  {
   "cell_type": "code",
   "execution_count": 22,
   "id": "8160a18f",
   "metadata": {},
   "outputs": [
    {
     "data": {
      "text/plain": [
       "1st_Road_Class               -0.087417\n",
       "Road_Type                    -0.058601\n",
       "Accident_Severity            -0.056220\n",
       "Location_Easting_OSGR        -0.044962\n",
       "Longitude                    -0.043547\n",
       "Light_Conditions             -0.035289\n",
       "2nd_Road_Class               -0.030579\n",
       "Year                         -0.011123\n",
       "Carriageway_Hazards          -0.007017\n",
       "Day_of_Week                   0.001593\n",
       "2nd_Road_Number               0.003530\n",
       "1st_Road_Number               0.007854\n",
       "Police_Force                  0.012565\n",
       "Local_Authority_(District)    0.020934\n",
       "Time                          0.029881\n",
       "Location_Northing_OSGR        0.036244\n",
       "Latitude                      0.036409\n",
       "Urban_or_Rural_Area           0.121441\n",
       "Speed_limit                   0.149009\n",
       "Number_of_Vehicles            0.253319\n",
       "Number_of_Casualties          1.000000\n",
       "Name: Number_of_Casualties, dtype: float64"
      ]
     },
     "execution_count": 22,
     "metadata": {},
     "output_type": "execute_result"
    }
   ],
   "source": [
    "df2.corr()[\"Number_of_Casualties\"].sort_values()"
   ]
  },
  {
   "cell_type": "code",
   "execution_count": 23,
   "id": "12b8ce2e",
   "metadata": {},
   "outputs": [],
   "source": [
    "df2.to_csv(\"KazaVerileri.csv\",index=False)"
   ]
  }
 ],
 "metadata": {
  "kernelspec": {
   "display_name": "Python 3",
   "language": "python",
   "name": "python3"
  },
  "language_info": {
   "codemirror_mode": {
    "name": "ipython",
    "version": 3
   },
   "file_extension": ".py",
   "mimetype": "text/x-python",
   "name": "python",
   "nbconvert_exporter": "python",
   "pygments_lexer": "ipython3",
   "version": "3.8.8"
  }
 },
 "nbformat": 4,
 "nbformat_minor": 5
}
