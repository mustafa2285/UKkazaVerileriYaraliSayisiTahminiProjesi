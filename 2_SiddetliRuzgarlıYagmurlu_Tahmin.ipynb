{
 "cells": [
  {
   "cell_type": "markdown",
   "id": "a9f750ee",
   "metadata": {},
   "source": [
    "# Şiddetli rüzgarla yağmurlu hava koşullarında yaralı sayısı tahmini"
   ]
  },
  {
   "cell_type": "code",
   "execution_count": 1,
   "id": "9146bea2",
   "metadata": {},
   "outputs": [],
   "source": [
    "import numpy as np\n",
    "import pandas as pd\n",
    "import matplotlib.pyplot as plt\n",
    "import seaborn as sns"
   ]
  },
  {
   "cell_type": "code",
   "execution_count": 2,
   "id": "93b1277a",
   "metadata": {},
   "outputs": [],
   "source": [
    "from sklearn.model_selection import train_test_split,GridSearchCV\n",
    "from sklearn.linear_model import LinearRegression\n",
    "from sklearn.neighbors import KNeighborsRegressor\n",
    "from sklearn.naive_bayes import GaussianNB\n",
    "from sklearn.tree import DecisionTreeClassifier\n",
    "from sklearn.svm import SVC"
   ]
  },
  {
   "cell_type": "code",
   "execution_count": 3,
   "id": "bdd1a68a",
   "metadata": {},
   "outputs": [],
   "source": [
    "dfx = pd.read_csv(\"KazaVerileri.csv\")"
   ]
  },
  {
   "cell_type": "code",
   "execution_count": 4,
   "id": "f33eb179",
   "metadata": {},
   "outputs": [
    {
     "name": "stdout",
     "output_type": "stream",
     "text": [
      "<class 'pandas.core.frame.DataFrame'>\n",
      "RangeIndex: 464381 entries, 0 to 464380\n",
      "Data columns (total 22 columns):\n",
      " #   Column                      Non-Null Count   Dtype  \n",
      "---  ------                      --------------   -----  \n",
      " 0   Time                        464381 non-null  int64  \n",
      " 1   Road_Type                   464381 non-null  int64  \n",
      " 2   Light_Conditions            464381 non-null  int64  \n",
      " 3   Carriageway_Hazards         464381 non-null  int64  \n",
      " 4   Location_Easting_OSGR       464381 non-null  int64  \n",
      " 5   Location_Northing_OSGR      464381 non-null  int64  \n",
      " 6   Longitude                   464381 non-null  float64\n",
      " 7   Latitude                    464381 non-null  float64\n",
      " 8   Police_Force                464381 non-null  int64  \n",
      " 9   Accident_Severity           464381 non-null  int64  \n",
      " 10  Number_of_Vehicles          464381 non-null  int64  \n",
      " 11  Number_of_Casualties        464381 non-null  int64  \n",
      " 12  Day_of_Week                 464381 non-null  int64  \n",
      " 13  Local_Authority_(District)  464381 non-null  int64  \n",
      " 14  1st_Road_Class              464381 non-null  int64  \n",
      " 15  1st_Road_Number             464381 non-null  int64  \n",
      " 16  Speed_limit                 464381 non-null  int64  \n",
      " 17  2nd_Road_Class              464381 non-null  int64  \n",
      " 18  2nd_Road_Number             464381 non-null  int64  \n",
      " 19  Weather_Conditions          464381 non-null  object \n",
      " 20  Urban_or_Rural_Area         464381 non-null  int64  \n",
      " 21  Year                        464381 non-null  int64  \n",
      "dtypes: float64(2), int64(19), object(1)\n",
      "memory usage: 77.9+ MB\n"
     ]
    }
   ],
   "source": [
    "dfx.info()"
   ]
  },
  {
   "cell_type": "code",
   "execution_count": 5,
   "id": "09d57dd1",
   "metadata": {},
   "outputs": [
    {
     "data": {
      "text/plain": [
       "Fine without high winds       372902\n",
       "Raining without high winds     57034\n",
       "Unknown                        16476\n",
       "Raining with high winds         7116\n",
       "Fine with high winds            5006\n",
       "Snowing without high winds      2708\n",
       "Fog or mist                     2406\n",
       "Snowing with high winds          733\n",
       "Name: Weather_Conditions, dtype: int64"
      ]
     },
     "execution_count": 5,
     "metadata": {},
     "output_type": "execute_result"
    }
   ],
   "source": [
    "dfx.Weather_Conditions.value_counts()"
   ]
  },
  {
   "cell_type": "code",
   "execution_count": 6,
   "id": "d32567e7",
   "metadata": {},
   "outputs": [],
   "source": [
    "df = dfx.loc[dfx.Weather_Conditions==\"Raining with high winds\"]"
   ]
  },
  {
   "cell_type": "code",
   "execution_count": 7,
   "id": "552ee701",
   "metadata": {},
   "outputs": [
    {
     "name": "stdout",
     "output_type": "stream",
     "text": [
      "<class 'pandas.core.frame.DataFrame'>\n",
      "Int64Index: 7116 entries, 247 to 464294\n",
      "Data columns (total 22 columns):\n",
      " #   Column                      Non-Null Count  Dtype  \n",
      "---  ------                      --------------  -----  \n",
      " 0   Time                        7116 non-null   int64  \n",
      " 1   Road_Type                   7116 non-null   int64  \n",
      " 2   Light_Conditions            7116 non-null   int64  \n",
      " 3   Carriageway_Hazards         7116 non-null   int64  \n",
      " 4   Location_Easting_OSGR       7116 non-null   int64  \n",
      " 5   Location_Northing_OSGR      7116 non-null   int64  \n",
      " 6   Longitude                   7116 non-null   float64\n",
      " 7   Latitude                    7116 non-null   float64\n",
      " 8   Police_Force                7116 non-null   int64  \n",
      " 9   Accident_Severity           7116 non-null   int64  \n",
      " 10  Number_of_Vehicles          7116 non-null   int64  \n",
      " 11  Number_of_Casualties        7116 non-null   int64  \n",
      " 12  Day_of_Week                 7116 non-null   int64  \n",
      " 13  Local_Authority_(District)  7116 non-null   int64  \n",
      " 14  1st_Road_Class              7116 non-null   int64  \n",
      " 15  1st_Road_Number             7116 non-null   int64  \n",
      " 16  Speed_limit                 7116 non-null   int64  \n",
      " 17  2nd_Road_Class              7116 non-null   int64  \n",
      " 18  2nd_Road_Number             7116 non-null   int64  \n",
      " 19  Weather_Conditions          7116 non-null   object \n",
      " 20  Urban_or_Rural_Area         7116 non-null   int64  \n",
      " 21  Year                        7116 non-null   int64  \n",
      "dtypes: float64(2), int64(19), object(1)\n",
      "memory usage: 1.2+ MB\n"
     ]
    }
   ],
   "source": [
    "df.info()"
   ]
  },
  {
   "cell_type": "code",
   "execution_count": 8,
   "id": "273f0d16",
   "metadata": {},
   "outputs": [
    {
     "data": {
      "text/plain": [
       "Accident_Severity            -0.084532\n",
       "1st_Road_Class               -0.055038\n",
       "2nd_Road_Class               -0.037334\n",
       "Light_Conditions             -0.020979\n",
       "2nd_Road_Number              -0.020117\n",
       "Road_Type                    -0.015473\n",
       "Police_Force                 -0.013420\n",
       "Year                         -0.011317\n",
       "Location_Easting_OSGR        -0.008514\n",
       "Longitude                    -0.007248\n",
       "Local_Authority_(District)   -0.006793\n",
       "Day_of_Week                  -0.001616\n",
       "Carriageway_Hazards          -0.001563\n",
       "Location_Northing_OSGR        0.000452\n",
       "Latitude                      0.000596\n",
       "1st_Road_Number               0.014766\n",
       "Time                          0.028126\n",
       "Speed_limit                   0.099194\n",
       "Urban_or_Rural_Area           0.103896\n",
       "Number_of_Vehicles            0.251573\n",
       "Number_of_Casualties          1.000000\n",
       "Name: Number_of_Casualties, dtype: float64"
      ]
     },
     "execution_count": 8,
     "metadata": {},
     "output_type": "execute_result"
    }
   ],
   "source": [
    "df.corr()[\"Number_of_Casualties\"].sort_values()"
   ]
  },
  {
   "cell_type": "code",
   "execution_count": 9,
   "id": "6a179190",
   "metadata": {},
   "outputs": [],
   "source": [
    "y = df[\"Number_of_Casualties\"].values\n",
    "x = df.drop([\"Number_of_Casualties\",\"Weather_Conditions\"],axis = 1).values"
   ]
  },
  {
   "cell_type": "markdown",
   "id": "1cc60198",
   "metadata": {},
   "source": [
    "# Liner"
   ]
  },
  {
   "cell_type": "code",
   "execution_count": 10,
   "id": "ce1b423f",
   "metadata": {},
   "outputs": [],
   "source": [
    "X_train,X_test,y_train,y_test = train_test_split(x,y, test_size=0.20,random_state=42)"
   ]
  },
  {
   "cell_type": "code",
   "execution_count": 11,
   "id": "74d236e8",
   "metadata": {},
   "outputs": [
    {
     "data": {
      "text/plain": [
       "LinearRegression()"
      ]
     },
     "execution_count": 11,
     "metadata": {},
     "output_type": "execute_result"
    }
   ],
   "source": [
    "reg = LinearRegression()\n",
    "reg.fit(X_train,y_train)"
   ]
  },
  {
   "cell_type": "code",
   "execution_count": 12,
   "id": "85a3ac9e",
   "metadata": {},
   "outputs": [
    {
     "data": {
      "text/plain": [
       "0.09471727427408805"
      ]
     },
     "execution_count": 12,
     "metadata": {},
     "output_type": "execute_result"
    }
   ],
   "source": [
    "reg.score(X_test,y_test)"
   ]
  },
  {
   "cell_type": "markdown",
   "id": "e16823ba",
   "metadata": {},
   "source": [
    "# KNN"
   ]
  },
  {
   "cell_type": "code",
   "execution_count": 13,
   "id": "a143a035",
   "metadata": {},
   "outputs": [],
   "source": [
    "X_train,X_test,y_train,y_test = train_test_split(x,y, test_size=0.2,random_state=42)"
   ]
  },
  {
   "cell_type": "code",
   "execution_count": 14,
   "id": "ff0b5a7c",
   "metadata": {},
   "outputs": [],
   "source": [
    "knn = KNeighborsRegressor().fit(X_train, y_train)"
   ]
  },
  {
   "cell_type": "code",
   "execution_count": 15,
   "id": "11c6c62b",
   "metadata": {},
   "outputs": [
    {
     "data": {
      "text/plain": [
       "-0.16891001095329927"
      ]
     },
     "execution_count": 15,
     "metadata": {},
     "output_type": "execute_result"
    }
   ],
   "source": [
    "knn.score(X_test,y_test)"
   ]
  },
  {
   "cell_type": "markdown",
   "id": "5d497b73",
   "metadata": {},
   "source": [
    "# KNN Parametre"
   ]
  },
  {
   "cell_type": "code",
   "execution_count": 16,
   "id": "5d3e7908",
   "metadata": {},
   "outputs": [],
   "source": [
    "X_train,X_test,y_train,y_test = train_test_split(x,y, test_size=0.2,random_state=42)\n"
   ]
  },
  {
   "cell_type": "code",
   "execution_count": 17,
   "id": "4f48b10f",
   "metadata": {},
   "outputs": [
    {
     "name": "stdout",
     "output_type": "stream",
     "text": [
      "opt değer 95\n"
     ]
    }
   ],
   "source": [
    "knn_params ={\"n_neighbors\": np.arange(1,100,2)}\n",
    "knn = KNeighborsRegressor()\n",
    "knn_cv_model = GridSearchCV(knn, knn_params,cv =10)\n",
    "knn_cv_model.fit(X_train, y_train)\n",
    "opt = knn_cv_model.best_params_[\"n_neighbors\"]\n",
    "print(\"opt değer\", opt)"
   ]
  },
  {
   "cell_type": "code",
   "execution_count": 18,
   "id": "8315b05c",
   "metadata": {},
   "outputs": [
    {
     "data": {
      "text/plain": [
       "KNeighborsRegressor(n_neighbors=95)"
      ]
     },
     "execution_count": 18,
     "metadata": {},
     "output_type": "execute_result"
    }
   ],
   "source": [
    "knn_tunud = KNeighborsRegressor(n_neighbors=opt)\n",
    "knn_tunud.fit(X_train,y_train)"
   ]
  },
  {
   "cell_type": "code",
   "execution_count": 19,
   "id": "d359a1ec",
   "metadata": {},
   "outputs": [
    {
     "data": {
      "text/plain": [
       "-0.009694911213230961"
      ]
     },
     "execution_count": 19,
     "metadata": {},
     "output_type": "execute_result"
    }
   ],
   "source": [
    "knn_tunud.score(X_test,y_test)"
   ]
  },
  {
   "cell_type": "markdown",
   "id": "54aa4951",
   "metadata": {},
   "source": [
    "# GaussianNB"
   ]
  },
  {
   "cell_type": "code",
   "execution_count": 20,
   "id": "8b26f154",
   "metadata": {},
   "outputs": [],
   "source": [
    "X_train,X_test,y_train,y_test = train_test_split(x,y, test_size=0.2,random_state=42)"
   ]
  },
  {
   "cell_type": "code",
   "execution_count": 21,
   "id": "01f2e935",
   "metadata": {},
   "outputs": [
    {
     "data": {
      "text/plain": [
       "GaussianNB()"
      ]
     },
     "execution_count": 21,
     "metadata": {},
     "output_type": "execute_result"
    }
   ],
   "source": [
    "model =GaussianNB()\n",
    "model.fit(X_train,y_train)"
   ]
  },
  {
   "cell_type": "code",
   "execution_count": 22,
   "id": "410e9792",
   "metadata": {},
   "outputs": [
    {
     "data": {
      "text/plain": [
       "0.574438202247191"
      ]
     },
     "execution_count": 22,
     "metadata": {},
     "output_type": "execute_result"
    }
   ],
   "source": [
    "model.score(X_test,y_test)"
   ]
  },
  {
   "cell_type": "markdown",
   "id": "103c219c",
   "metadata": {},
   "source": [
    "# DecisionTree"
   ]
  },
  {
   "cell_type": "code",
   "execution_count": 23,
   "id": "1252fd8a",
   "metadata": {},
   "outputs": [],
   "source": [
    "X_train,X_test,y_train,y_test = train_test_split(x,y, test_size=0.2,random_state=42)"
   ]
  },
  {
   "cell_type": "code",
   "execution_count": 24,
   "id": "331b2156",
   "metadata": {},
   "outputs": [
    {
     "data": {
      "text/plain": [
       "DecisionTreeClassifier(criterion='entropy')"
      ]
     },
     "execution_count": 24,
     "metadata": {},
     "output_type": "execute_result"
    }
   ],
   "source": [
    "dtc = DecisionTreeClassifier(criterion = \"entropy\")\n",
    "dtc.fit(X_train,y_train)"
   ]
  },
  {
   "cell_type": "code",
   "execution_count": 25,
   "id": "c8dfc180",
   "metadata": {},
   "outputs": [
    {
     "data": {
      "text/plain": [
       "0.6530898876404494"
      ]
     },
     "execution_count": 25,
     "metadata": {},
     "output_type": "execute_result"
    }
   ],
   "source": [
    "dtc.score(X_test,y_test)"
   ]
  },
  {
   "cell_type": "markdown",
   "id": "fec6d6c5",
   "metadata": {},
   "source": [
    "# SVC"
   ]
  },
  {
   "cell_type": "code",
   "execution_count": 26,
   "id": "75fac823",
   "metadata": {},
   "outputs": [],
   "source": [
    "X_train,X_test,y_train,y_test = train_test_split(x,y, test_size=0.20,random_state=42)"
   ]
  },
  {
   "cell_type": "code",
   "execution_count": 27,
   "id": "aefacd57",
   "metadata": {},
   "outputs": [
    {
     "data": {
      "text/plain": [
       "SVC(kernel='poly')"
      ]
     },
     "execution_count": 27,
     "metadata": {},
     "output_type": "execute_result"
    }
   ],
   "source": [
    "svc = SVC(kernel=\"poly\")\n",
    "svc.fit(X_train,y_train)"
   ]
  },
  {
   "cell_type": "code",
   "execution_count": 28,
   "id": "a39933f1",
   "metadata": {},
   "outputs": [
    {
     "data": {
      "text/plain": [
       "0.7415730337078652"
      ]
     },
     "execution_count": 28,
     "metadata": {},
     "output_type": "execute_result"
    }
   ],
   "source": [
    "svc.score(X_test,y_test)"
   ]
  },
  {
   "cell_type": "markdown",
   "id": "d7c04e31",
   "metadata": {},
   "source": [
    "### Sadece pozitif etki eden kolonları alma"
   ]
  },
  {
   "cell_type": "code",
   "execution_count": 29,
   "id": "73113e67",
   "metadata": {},
   "outputs": [
    {
     "data": {
      "text/plain": [
       "Accident_Severity            -0.084532\n",
       "1st_Road_Class               -0.055038\n",
       "2nd_Road_Class               -0.037334\n",
       "Light_Conditions             -0.020979\n",
       "2nd_Road_Number              -0.020117\n",
       "Road_Type                    -0.015473\n",
       "Police_Force                 -0.013420\n",
       "Year                         -0.011317\n",
       "Location_Easting_OSGR        -0.008514\n",
       "Longitude                    -0.007248\n",
       "Local_Authority_(District)   -0.006793\n",
       "Day_of_Week                  -0.001616\n",
       "Carriageway_Hazards          -0.001563\n",
       "Location_Northing_OSGR        0.000452\n",
       "Latitude                      0.000596\n",
       "1st_Road_Number               0.014766\n",
       "Time                          0.028126\n",
       "Speed_limit                   0.099194\n",
       "Urban_or_Rural_Area           0.103896\n",
       "Number_of_Vehicles            0.251573\n",
       "Number_of_Casualties          1.000000\n",
       "Name: Number_of_Casualties, dtype: float64"
      ]
     },
     "execution_count": 29,
     "metadata": {},
     "output_type": "execute_result"
    }
   ],
   "source": [
    "df.corr()[\"Number_of_Casualties\"].sort_values()"
   ]
  },
  {
   "cell_type": "code",
   "execution_count": 30,
   "id": "e270db7b",
   "metadata": {},
   "outputs": [],
   "source": [
    "y = df[\"Number_of_Casualties\"].values\n",
    "x = df.loc[:,[\"Number_of_Vehicles\",\"Speed_limit\",\"Urban_or_Rural_Area\",\"Location_Northing_OSGR\",\"Latitude\"\n",
    "              ,\"Time\",\"1st_Road_Number\",]].values"
   ]
  },
  {
   "cell_type": "markdown",
   "id": "23b7427f",
   "metadata": {},
   "source": [
    "# Liner"
   ]
  },
  {
   "cell_type": "code",
   "execution_count": 31,
   "id": "c4ea6f61",
   "metadata": {},
   "outputs": [],
   "source": [
    "X_train,X_test,y_train,y_test = train_test_split(x,y, test_size=0.20,random_state=42)"
   ]
  },
  {
   "cell_type": "code",
   "execution_count": 32,
   "id": "034929b2",
   "metadata": {},
   "outputs": [
    {
     "data": {
      "text/plain": [
       "LinearRegression()"
      ]
     },
     "execution_count": 32,
     "metadata": {},
     "output_type": "execute_result"
    }
   ],
   "source": [
    "reg = LinearRegression()\n",
    "reg.fit(X_train,y_train)"
   ]
  },
  {
   "cell_type": "code",
   "execution_count": 33,
   "id": "62a520b0",
   "metadata": {},
   "outputs": [
    {
     "data": {
      "text/plain": [
       "0.08159588530414452"
      ]
     },
     "execution_count": 33,
     "metadata": {},
     "output_type": "execute_result"
    }
   ],
   "source": [
    "reg.score(X_test,y_test)"
   ]
  },
  {
   "cell_type": "markdown",
   "id": "33ede879",
   "metadata": {},
   "source": [
    "# KNN"
   ]
  },
  {
   "cell_type": "code",
   "execution_count": 34,
   "id": "a5eede31",
   "metadata": {},
   "outputs": [],
   "source": [
    "X_train,X_test,y_train,y_test = train_test_split(x,y, test_size=0.2,random_state=42)"
   ]
  },
  {
   "cell_type": "code",
   "execution_count": 35,
   "id": "55093cb9",
   "metadata": {},
   "outputs": [],
   "source": [
    "knn = KNeighborsRegressor().fit(X_train, y_train)"
   ]
  },
  {
   "cell_type": "code",
   "execution_count": 36,
   "id": "82618106",
   "metadata": {},
   "outputs": [
    {
     "data": {
      "text/plain": [
       "-0.12330109886854346"
      ]
     },
     "execution_count": 36,
     "metadata": {},
     "output_type": "execute_result"
    }
   ],
   "source": [
    "knn.score(X_test,y_test)"
   ]
  },
  {
   "cell_type": "markdown",
   "id": "e8573bae",
   "metadata": {},
   "source": [
    "# KNN Parametre"
   ]
  },
  {
   "cell_type": "code",
   "execution_count": 37,
   "id": "e5e2b7f2",
   "metadata": {},
   "outputs": [],
   "source": [
    "X_train,X_test,y_train,y_test = train_test_split(x,y, test_size=0.2,random_state=42)"
   ]
  },
  {
   "cell_type": "code",
   "execution_count": 38,
   "id": "20b9b259",
   "metadata": {},
   "outputs": [
    {
     "name": "stdout",
     "output_type": "stream",
     "text": [
      "opt değer 99\n"
     ]
    }
   ],
   "source": [
    "knn_params ={\"n_neighbors\": np.arange(1,100,2)}\n",
    "knn = KNeighborsRegressor()\n",
    "knn_cv_model = GridSearchCV(knn, knn_params,cv =10)\n",
    "knn_cv_model.fit(X_train, y_train)\n",
    "opt = knn_cv_model.best_params_[\"n_neighbors\"]\n",
    "print(\"opt değer\", opt)"
   ]
  },
  {
   "cell_type": "code",
   "execution_count": 39,
   "id": "f176a918",
   "metadata": {},
   "outputs": [
    {
     "data": {
      "text/plain": [
       "KNeighborsRegressor(n_neighbors=99)"
      ]
     },
     "execution_count": 39,
     "metadata": {},
     "output_type": "execute_result"
    }
   ],
   "source": [
    "knn_tunud = KNeighborsRegressor(n_neighbors=opt)\n",
    "knn_tunud.fit(X_train,y_train)"
   ]
  },
  {
   "cell_type": "code",
   "execution_count": 40,
   "id": "7530af31",
   "metadata": {},
   "outputs": [
    {
     "data": {
      "text/plain": [
       "-0.010562205443224615"
      ]
     },
     "execution_count": 40,
     "metadata": {},
     "output_type": "execute_result"
    }
   ],
   "source": [
    "knn_tunud.score(X_test,y_test)"
   ]
  },
  {
   "cell_type": "markdown",
   "id": "ec0b1daf",
   "metadata": {},
   "source": [
    "# GaussianNB"
   ]
  },
  {
   "cell_type": "code",
   "execution_count": 41,
   "id": "21d76069",
   "metadata": {},
   "outputs": [],
   "source": [
    "X_train,X_test,y_train,y_test = train_test_split(x,y, test_size=0.2,random_state=42)"
   ]
  },
  {
   "cell_type": "code",
   "execution_count": 42,
   "id": "b18eb492",
   "metadata": {},
   "outputs": [
    {
     "data": {
      "text/plain": [
       "GaussianNB()"
      ]
     },
     "execution_count": 42,
     "metadata": {},
     "output_type": "execute_result"
    }
   ],
   "source": [
    "model =GaussianNB()\n",
    "model.fit(X_train,y_train)"
   ]
  },
  {
   "cell_type": "code",
   "execution_count": 43,
   "id": "32885179",
   "metadata": {},
   "outputs": [
    {
     "data": {
      "text/plain": [
       "0.7401685393258427"
      ]
     },
     "execution_count": 43,
     "metadata": {},
     "output_type": "execute_result"
    }
   ],
   "source": [
    "model.score(X_test,y_test)"
   ]
  },
  {
   "cell_type": "markdown",
   "id": "5e037b69",
   "metadata": {},
   "source": [
    "# DecisionTree"
   ]
  },
  {
   "cell_type": "code",
   "execution_count": 44,
   "id": "1f78bbd3",
   "metadata": {},
   "outputs": [],
   "source": [
    "X_train,X_test,y_train,y_test = train_test_split(x,y, test_size=0.2,random_state=42)"
   ]
  },
  {
   "cell_type": "code",
   "execution_count": 45,
   "id": "210e9876",
   "metadata": {},
   "outputs": [
    {
     "data": {
      "text/plain": [
       "DecisionTreeClassifier(criterion='entropy')"
      ]
     },
     "execution_count": 45,
     "metadata": {},
     "output_type": "execute_result"
    }
   ],
   "source": [
    "dtc = DecisionTreeClassifier(criterion = \"entropy\")\n",
    "dtc.fit(X_train,y_train)"
   ]
  },
  {
   "cell_type": "code",
   "execution_count": 46,
   "id": "95408f9e",
   "metadata": {},
   "outputs": [
    {
     "data": {
      "text/plain": [
       "0.6425561797752809"
      ]
     },
     "execution_count": 46,
     "metadata": {},
     "output_type": "execute_result"
    }
   ],
   "source": [
    "dtc.score(X_test,y_test)"
   ]
  },
  {
   "cell_type": "markdown",
   "id": "3f9d999d",
   "metadata": {},
   "source": [
    "# SVC"
   ]
  },
  {
   "cell_type": "code",
   "execution_count": 47,
   "id": "4dcb3f15",
   "metadata": {},
   "outputs": [],
   "source": [
    "X_train,X_test,y_train,y_test = train_test_split(x,y, test_size=0.2,random_state=42)"
   ]
  },
  {
   "cell_type": "code",
   "execution_count": 48,
   "id": "ece5708d",
   "metadata": {},
   "outputs": [
    {
     "data": {
      "text/plain": [
       "SVC(kernel='poly')"
      ]
     },
     "execution_count": 48,
     "metadata": {},
     "output_type": "execute_result"
    }
   ],
   "source": [
    "svc = SVC(kernel=\"poly\")\n",
    "svc.fit(X_train,y_train)"
   ]
  },
  {
   "cell_type": "code",
   "execution_count": 49,
   "id": "642a2d4a",
   "metadata": {},
   "outputs": [
    {
     "data": {
      "text/plain": [
       "0.7415730337078652"
      ]
     },
     "execution_count": 49,
     "metadata": {},
     "output_type": "execute_result"
    }
   ],
   "source": [
    "svc.score(X_test,y_test)"
   ]
  }
 ],
 "metadata": {
  "kernelspec": {
   "display_name": "Python 3",
   "language": "python",
   "name": "python3"
  },
  "language_info": {
   "codemirror_mode": {
    "name": "ipython",
    "version": 3
   },
   "file_extension": ".py",
   "mimetype": "text/x-python",
   "name": "python",
   "nbconvert_exporter": "python",
   "pygments_lexer": "ipython3",
   "version": "3.8.8"
  }
 },
 "nbformat": 4,
 "nbformat_minor": 5
}
